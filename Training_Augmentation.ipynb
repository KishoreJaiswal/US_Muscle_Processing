{
 "cells": [
  {
   "metadata": {},
   "cell_type": "markdown",
   "source": "Importing Libraries",
   "id": "49642819f0e2690c"
  },
  {
   "metadata": {
    "collapsed": true
   },
   "cell_type": "code",
   "outputs": [],
   "execution_count": null,
   "source": [
    "import os\n",
    "import cv2\n",
    "import numpy as np\n",
    "from tqdm import tqdm\n",
    "import albumentations as A"
   ],
   "id": "initial_id"
  },
  {
   "metadata": {},
   "cell_type": "markdown",
   "source": "Augmentation Function",
   "id": "e7c771308c8873c1"
  },
  {
   "metadata": {},
   "cell_type": "code",
   "outputs": [],
   "execution_count": null,
   "source": [
    "# Same as in main pipeline\n",
    "def get_training_augmentation():\n",
    "    train_transform = [\n",
    "        # A.Resize(height=352, width=768),  # ✅ safe size\n",
    "        A.HorizontalFlip(p=0.5),\n",
    "\n",
    "        A.ShiftScaleRotate(scale_limit=0.5, rotate_limit=0, shift_limit=0.1, p=1, border_mode=0),\n",
    "\n",
    "        # A.PadIfNeeded(min_height=320, min_width=320, border_mode=0),\n",
    "        # A.RandomCrop(height=320, width=320),\n",
    "\n",
    "        A.GaussNoise(p=0.2),\n",
    "        A.Perspective(p=0.5),\n",
    "\n",
    "        A.OneOf(\n",
    "            [\n",
    "                A.CLAHE(p=1),\n",
    "                A.RandomBrightnessContrast(p=1),  # ✅ updated line\n",
    "                A.RandomGamma(p=1),\n",
    "            ],\n",
    "            p=0.9,\n",
    "        ),\n",
    "\n",
    "        A.OneOf(\n",
    "            [\n",
    "                A.Sharpen(p=1),\n",
    "                A.Blur(blur_limit=3, p=1),\n",
    "                A.MotionBlur(blur_limit=3, p=1),\n",
    "            ],\n",
    "            p=0.9,\n",
    "        ),\n",
    "\n",
    "        A.OneOf(\n",
    "            [\n",
    "                A.HueSaturationValue(p=1),\n",
    "            ],\n",
    "            p=0.9,\n",
    "        ),\n",
    "\n",
    "        A.Lambda(mask=round_clip_0_1)\n",
    "    ]\n",
    "\n",
    "    return A.Compose(train_transform)"
   ],
   "id": "96feac3ccb6955d1"
  },
  {
   "metadata": {},
   "cell_type": "code",
   "outputs": [],
   "execution_count": null,
   "source": [
    "def get_variable_aug_pipeline():\n",
    "    return A.Compose([\n",
    "        A.OneOf([\n",
    "            A.HorizontalFlip(p=1),\n",
    "            A.VerticalFlip(p=1),\n",
    "            A.RandomRotate90(p=1),\n",
    "        ], p=0.8),\n",
    "\n",
    "        A.OneOf([\n",
    "            A.ShiftScaleRotate(scale_limit=0.2, rotate_limit=20, shift_limit=0.1, p=1, border_mode=0),\n",
    "            A.ElasticTransform(alpha=1, sigma=50, alpha_affine=50, p=1),\n",
    "            A.GridDistortion(p=1),\n",
    "            A.OpticalDistortion(p=1),\n",
    "        ], p=0.7),\n",
    "\n",
    "        A.OneOf([\n",
    "            A.CLAHE(p=1),\n",
    "            A.RandomBrightnessContrast(p=1),\n",
    "            A.RandomGamma(p=1),\n",
    "            A.HueSaturationValue(p=1),\n",
    "            A.RGBShift(p=1),\n",
    "        ], p=0.8),\n",
    "\n",
    "        A.OneOf([\n",
    "            A.GaussNoise(var_limit=(10.0, 50.0), p=1),\n",
    "            A.Blur(blur_limit=3, p=1),\n",
    "            A.MotionBlur(blur_limit=3, p=1),\n",
    "            A.MedianBlur(blur_limit=3, p=1),\n",
    "        ], p=0.5),\n",
    "\n",
    "        A.CoarseDropout(max_holes=8, max_height=32, max_width=32, fill_value=0, p=0.2),\n",
    "    ])\n"
   ],
   "id": "95f86fd07aa84729"
  },
  {
   "metadata": {},
   "cell_type": "markdown",
   "source": "Augmentation",
   "id": "d9e6cbdc8f3707d3"
  },
  {
   "metadata": {
    "ExecuteTime": {
     "end_time": "2025-07-02T13:09:19.101632Z",
     "start_time": "2025-07-02T13:09:19.083634Z"
    }
   },
   "cell_type": "code",
   "outputs": [],
   "execution_count": null,
   "source": [
    "input_img_dir = 'images_3/images_train/img'\n",
    "input_mask_dir = 'images_3/images_all/mask'\n",
    "output_img_dir = 'images_3/augmented/img'\n",
    "output_mask_dir = 'images_3/augmented/mask'\n",
    "os.makedirs(output_img_dir, exist_ok=True)\n",
    "os.makedirs(output_mask_dir, exist_ok=True)"
   ],
   "id": "12697848e9216792"
  },
  {
   "metadata": {
    "ExecuteTime": {
     "end_time": "2025-07-02T13:09:19.701632Z",
     "start_time": "2025-07-02T13:09:19.687636Z"
    }
   },
   "cell_type": "code",
   "outputs": [],
   "execution_count": null,
   "source": [
    "# Parameters\n",
    "N_AUGS = 5\n",
    "augment = get_training_augmentation()\n",
    "\n",
    "# CHANGE DEPENDING ON WHICH ONE WE WANT TO USE !!!!!!\n",
    "# N_AUGS = 10\n",
    "# augment = get_variable_aug_pipeline()\n",
    "\n",
    "# Loop through all input images\n",
    "for fname in tqdm(os.listdir(input_img_dir)):\n",
    "    if not fname.endswith(('.jpg', '.png', '.jpeg')):\n",
    "        continue\n",
    "\n",
    "    img_path = os.path.join(input_img_dir, fname)\n",
    "    mask_path = os.path.join(input_mask_dir, fname)\n",
    "\n",
    "    image = cv2.imread(img_path)\n",
    "    mask = cv2.imread(mask_path, cv2.IMREAD_GRAYSCALE)\n",
    "\n",
    "    for i in range(N_AUGS):\n",
    "        augmented = augment(image=image, mask=mask)\n",
    "        aug_img = augmented['image']\n",
    "        aug_mask = augmented['mask']\n",
    "\n",
    "        base = os.path.splitext(fname)[0]\n",
    "        img_out = os.path.join(output_img_dir, f\"{base}_aug{i}.png\")\n",
    "        mask_out = os.path.join(output_mask_dir, f\"{base}_aug{i}.png\")\n",
    "\n",
    "        cv2.imwrite(img_out, aug_img)\n",
    "        cv2.imwrite(mask_out, aug_mask)"
   ],
   "id": "ce07ad71b8fb90c"
  },
  {
   "metadata": {},
   "cell_type": "code",
   "outputs": [],
   "execution_count": null,
   "source": "",
   "id": "1f07c6ceab12ef4b"
  }
 ],
 "metadata": {
  "kernelspec": {
   "display_name": "Python 3",
   "language": "python",
   "name": "python3"
  },
  "language_info": {
   "codemirror_mode": {
    "name": "ipython",
    "version": 2
   },
   "file_extension": ".py",
   "mimetype": "text/x-python",
   "name": "python",
   "nbconvert_exporter": "python",
   "pygments_lexer": "ipython2",
   "version": "2.7.6"
  }
 },
 "nbformat": 4,
 "nbformat_minor": 5
}
